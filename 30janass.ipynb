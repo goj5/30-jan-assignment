{
 "cells": [
  {
   "cell_type": "code",
   "execution_count": null,
   "id": "60529f77-fe5c-4f44-9a21-69fb8ea8df8f",
   "metadata": {},
   "outputs": [],
   "source": [
    "1. Write a program to accept percentage from the user and display the grade according to the following "
   ]
  },
  {
   "cell_type": "code",
   "execution_count": 1,
   "id": "89947a57-7f10-4c5b-a1bf-cc6355061055",
   "metadata": {},
   "outputs": [
    {
     "name": "stdin",
     "output_type": "stream",
     "text": [
      "enter your marks 56\n"
     ]
    },
    {
     "name": "stdout",
     "output_type": "stream",
     "text": [
      "D\n"
     ]
    }
   ],
   "source": [
    "marks=float(input(\"enter your marks\"))\n",
    "while(marks):\n",
    "    if(marks>90):\n",
    "        print (\"A\")\n",
    "        break\n",
    "    elif(marks>80 and marks<=90):\n",
    "        print(\"B\")\n",
    "        break\n",
    "    elif(marks>=60 and marks<=80):\n",
    "        print(\"C\")\n",
    "        break\n",
    "    else:\n",
    "        print(\"D\")\n",
    "        break"
   ]
  },
  {
   "cell_type": "code",
   "execution_count": null,
   "id": "fffd16da-24ec-4989-9ea2-3d77c71961ea",
   "metadata": {},
   "outputs": [],
   "source": [
    "2. Write a program to accept the cost price of a bike and display the road tax to be paid according to the \n",
    "following criteria: "
   ]
  },
  {
   "cell_type": "code",
   "execution_count": 3,
   "id": "ac905704-09c1-438d-8bcd-acd8a057c8b1",
   "metadata": {},
   "outputs": [
    {
     "name": "stdin",
     "output_type": "stream",
     "text": [
      "enter the cost 4569\n"
     ]
    },
    {
     "name": "stdout",
     "output_type": "stream",
     "text": [
      "tax 5%\n"
     ]
    }
   ],
   "source": [
    "cost=float(input(\"enter the cost\"))\n",
    "while(cost):\n",
    "    if(cost>100000):\n",
    "        print (\"tax 15%\")\n",
    "        break\n",
    "    elif(cost>50000 and cost<=100000):\n",
    "        print (\"tax 10%\")\n",
    "        break\n",
    "    elif( cost<=50000):\n",
    "        print (\"tax 5%\")\n",
    "        break\n",
    "    else:\n",
    "        break"
   ]
  },
  {
   "cell_type": "code",
   "execution_count": null,
   "id": "e5ac2fe7-de44-4105-91e6-84ff6b1a779e",
   "metadata": {},
   "outputs": [],
   "source": [
    "3. Accept any city from the user and display monuments of that city. "
   ]
  },
  {
   "cell_type": "code",
   "execution_count": 6,
   "id": "feaa59ab-3bda-455e-9173-7c6dc20e0699",
   "metadata": {},
   "outputs": [
    {
     "name": "stdin",
     "output_type": "stream",
     "text": [
      "enter your city delhi\n"
     ]
    },
    {
     "name": "stdout",
     "output_type": "stream",
     "text": [
      "red fort\n"
     ]
    }
   ],
   "source": [
    "city=(input(\"enter your city\"))\n",
    "while(city):\n",
    "    if(city=='delhi'):\n",
    "        print (\"red fort\")\n",
    "        break\n",
    "    elif(city=='agra'):\n",
    "        print (\"taj mahal\")\n",
    "        break\n",
    "    elif( city=='jaipur'):\n",
    "        print (\"jal mahal\")\n",
    "        break\n",
    "    else:\n",
    "        break"
   ]
  },
  {
   "cell_type": "code",
   "execution_count": null,
   "id": "1173a2d7-b292-4be2-ae64-0ac431ae96d7",
   "metadata": {},
   "outputs": [],
   "source": [
    "4. Check how many times a given number can be divided by 3 before it is less than or equal to 10. "
   ]
  },
  {
   "cell_type": "code",
   "execution_count": 7,
   "id": "bcf92688-d81e-4be9-a436-e76abbfa1915",
   "metadata": {},
   "outputs": [
    {
     "name": "stdin",
     "output_type": "stream",
     "text": [
      "enter any no 5\n"
     ]
    },
    {
     "name": "stdout",
     "output_type": "stream",
     "text": [
      "0\n"
     ]
    }
   ],
   "source": [
    "n=int (input(\"enter any no\"))\n",
    "c=0\n",
    "while (n>10):\n",
    "    n/=3\n",
    "    c+=1\n",
    "print(c)\n"
   ]
  },
  {
   "cell_type": "code",
   "execution_count": null,
   "id": "6823fb2b-1298-4fe4-9cd8-0f57a5d460bb",
   "metadata": {},
   "outputs": [],
   "source": [
    "5. Why and When to Use while Loop in Python give a detailed description with example"
   ]
  },
  {
   "cell_type": "code",
   "execution_count": null,
   "id": "9c364a8c-c905-4bd8-99f7-ff9ea331f497",
   "metadata": {},
   "outputs": [],
   "source": [
    "While Loop is used to execute a block of statements repeatedly until a given condition is satisfied"
   ]
  },
  {
   "cell_type": "code",
   "execution_count": null,
   "id": "07cf2ac2-d820-46cd-9f9f-9fdd9b9f65c0",
   "metadata": {},
   "outputs": [],
   "source": [
    "6. Use nested while loop to print 3 different pattern. "
   ]
  },
  {
   "cell_type": "code",
   "execution_count": 8,
   "id": "46a501e3-91c8-42c5-b9e9-759c9dc4ac9f",
   "metadata": {},
   "outputs": [
    {
     "name": "stdout",
     "output_type": "stream",
     "text": [
      "* \n",
      "* * \n",
      "* * * \n",
      "* * * * \n",
      "* * * * * \n"
     ]
    }
   ],
   "source": [
    "rows = 5\n",
    "i = 0\n",
    "while i < rows:\n",
    "    j = 0\n",
    "    while j <= i:\n",
    "        print(\"* \", end=\"\")\n",
    "        j += 1\n",
    "    print()\n",
    "    i += 1\n"
   ]
  },
  {
   "cell_type": "code",
   "execution_count": 9,
   "id": "f3fcd8ab-6a40-4d5b-bc94-aa4fa1652bc3",
   "metadata": {},
   "outputs": [
    {
     "name": "stdout",
     "output_type": "stream",
     "text": [
      "* * * * * * \n",
      "* * * * * * \n",
      "* * * * * * \n",
      "* * * * * * \n",
      "* * * * * * \n"
     ]
    }
   ],
   "source": [
    "rows = 5\n",
    "i = 0\n",
    "while i < rows:\n",
    "    j = 0\n",
    "    while j <= 5:\n",
    "        print(\"* \", end=\"\")\n",
    "        j += 1\n",
    "    print()\n",
    "    i += 1\n"
   ]
  },
  {
   "cell_type": "code",
   "execution_count": 10,
   "id": "dee0dc20-a1a0-4869-ab6f-6bc9a79922df",
   "metadata": {},
   "outputs": [
    {
     "name": "stdout",
     "output_type": "stream",
     "text": [
      "\n",
      "1\n",
      "12\n",
      "123\n",
      "1234\n"
     ]
    }
   ],
   "source": [
    "rows = 5\n",
    "i = 0\n",
    "while i < rows:\n",
    "    j = 1\n",
    "    while j <= i:\n",
    "        print(j, end=\"\")\n",
    "        j += 1\n",
    "    print()\n",
    "    i += 1\n"
   ]
  },
  {
   "cell_type": "code",
   "execution_count": null,
   "id": "02b03ffb-8887-41c5-9062-dd60d83cb1c6",
   "metadata": {},
   "outputs": [],
   "source": [
    "7. Reverse a while loop to display numbers from 10 to 1."
   ]
  },
  {
   "cell_type": "code",
   "execution_count": 16,
   "id": "7b0353de-61e8-4f15-92a1-e4b08d968797",
   "metadata": {},
   "outputs": [
    {
     "name": "stdout",
     "output_type": "stream",
     "text": [
      "10\n",
      "9\n",
      "8\n",
      "7\n",
      "6\n",
      "5\n",
      "4\n",
      "3\n",
      "2\n",
      "1\n"
     ]
    }
   ],
   "source": [
    "i = 10\n",
    "while i >= 1:\n",
    "  print(i)\n",
    "  i -= 1"
   ]
  },
  {
   "cell_type": "code",
   "execution_count": null,
   "id": "05ac207b-4deb-4f15-96b8-c06c2fcb656d",
   "metadata": {},
   "outputs": [],
   "source": [
    "8. Reverse a while loop to display numbers from 10 to 1 "
   ]
  },
  {
   "cell_type": "code",
   "execution_count": 17,
   "id": "4da4e0d3-aba6-4769-9f57-c3b826d7e49b",
   "metadata": {},
   "outputs": [
    {
     "ename": "SyntaxError",
     "evalue": "invalid syntax (2840152759.py, line 2)",
     "output_type": "error",
     "traceback": [
      "\u001b[0;36m  Cell \u001b[0;32mIn[17], line 2\u001b[0;36m\u001b[0m\n\u001b[0;31m    While n <= 10:\u001b[0m\n\u001b[0m          ^\u001b[0m\n\u001b[0;31mSyntaxError\u001b[0m\u001b[0;31m:\u001b[0m invalid syntax\n"
     ]
    }
   ],
   "source": [
    "n=1\n",
    "While n <= 10:\n",
    "    print(n)\n",
    "    n+=1"
   ]
  },
  {
   "cell_type": "code",
   "execution_count": null,
   "id": "04b6fd5a-8645-4212-b018-09d68655c593",
   "metadata": {},
   "outputs": [],
   "source": []
  }
 ],
 "metadata": {
  "kernelspec": {
   "display_name": "Python 3 (ipykernel)",
   "language": "python",
   "name": "python3"
  },
  "language_info": {
   "codemirror_mode": {
    "name": "ipython",
    "version": 3
   },
   "file_extension": ".py",
   "mimetype": "text/x-python",
   "name": "python",
   "nbconvert_exporter": "python",
   "pygments_lexer": "ipython3",
   "version": "3.10.8"
  }
 },
 "nbformat": 4,
 "nbformat_minor": 5
}
